{
 "cells": [
  {
   "cell_type": "code",
   "execution_count": 44,
   "id": "5f788981",
   "metadata": {},
   "outputs": [],
   "source": [
    "from tkinter import *\n",
    "from tkinter import messagebox"
   ]
  },
  {
   "cell_type": "code",
   "execution_count": 45,
   "id": "659f4c5b",
   "metadata": {},
   "outputs": [],
   "source": [
    "tasks_list=[]\n",
    "counter=1\n",
    "def inputError():\n",
    "    if enterTaskField.get()==\"\":\n",
    "        messagebox.showerror(\"Input Error\")\n",
    "        return 0\n",
    "    return 1\n",
    "\n",
    "def clear_taskNumberField():\n",
    "    taskNumberField.delete(0.0,END)\n",
    "    \n",
    "def clear_taskField():\n",
    "    enterTaskField.delete(0,END)    "
   ]
  },
  {
   "cell_type": "code",
   "execution_count": 46,
   "id": "0e2be431",
   "metadata": {},
   "outputs": [],
   "source": [
    "def insertTask():\n",
    "    global counter\n",
    "    value=inputError()\n",
    "    if value==0:\n",
    "        return\n",
    "    content=enterTaskField.get()+\"\\n\"\n",
    "    tasks_list.append(content)\n",
    "    TextArea.insert('end -1 chars',\"[ \"+str(counter)+\" ] \"+content)\n",
    "    counter+=1\n",
    "    clear_taskField()"
   ]
  },
  {
   "cell_type": "code",
   "execution_count": 47,
   "id": "d7c8ab6c",
   "metadata": {},
   "outputs": [],
   "source": [
    "def delete():\n",
    "    global counter\n",
    "    if len(tasks_list)==0:\n",
    "        messagebox.showerror(\"No task\")\n",
    "        return\n",
    "    number=taskNumberField.get(1.0,END)\n",
    "    if number==\"\\n\":\n",
    "        messagebox.showerror(\"input error\")\n",
    "        return\n",
    "    else:\n",
    "        task_no=int(number)\n",
    "    clear_taskNumberField()\n",
    "    tasks_list.pop(task_no-1)\n",
    "    counter-=1\n",
    "    TextArea.delete(1.0,END)\n",
    "    \n",
    "    for i in range(len(tasks_list)):\n",
    "        TextArea.insert('end -1 chars','[ '+str(i+1)+\" ]\"+tasks_list[i])"
   ]
  },
  {
   "cell_type": "code",
   "execution_count": 50,
   "id": "26586699",
   "metadata": {},
   "outputs": [],
   "source": [
    "if __name__==\"__main__\":\n",
    "    gui=Tk()\n",
    "    gui.configure(background='#728FCE')\n",
    "    gui.title(\"TODO App\")\n",
    "    gui.geometry('250x300')\n",
    "    enterTask=Label(gui,text=\"Enter Your Task\",background='#728FCE',fg=\"white\",font=\"10\")\n",
    "    enterTaskField=Entry(gui,background=\"white\")\n",
    "    Submit=Button(gui,text=\"Submit\",fg=\"white\",bg=\"black\",command=insertTask)\n",
    "    TextArea=Text(gui,height=5,width=25,font=\"lucida 13\",background=\"white\",fg=\"black\")\n",
    "    taskNumber=Label(gui,text=\"Delete Task Number\",bg=\"#728FCE\",fg=\"white\")\n",
    "    taskNumberField=Text(gui,height=1,width=2,font=\"lucida 13\",background=\"white\")\n",
    "    delete=Button(gui,text=\"Delete\",fg='white',bg=\"black\",command=delete)\n",
    "    Exit=Button(gui,text=\"Exit\",fg='white',bg='red',command=gui.destroy)\n",
    "    enterTask.grid(row=0,column=2)\n",
    "    enterTaskField.grid(row=1,column=2,ipadx=50)\n",
    "    Submit.grid(row=3,column=2)\n",
    "    TextArea.grid(row=5,column=2,padx=10,sticky=W)\n",
    "    taskNumber.grid(row=6,column=2,pady=5)\n",
    "    taskNumberField.grid(row=7,column=2)\n",
    "    delete.grid(row=8,column=2,pady=5)\n",
    "    Exit.grid(row=9,column=2)\n",
    "    gui.mainloop()    "
   ]
  },
  {
   "cell_type": "code",
   "execution_count": null,
   "id": "cdb04b6c",
   "metadata": {},
   "outputs": [],
   "source": []
  }
 ],
 "metadata": {
  "kernelspec": {
   "display_name": "Python 3",
   "language": "python",
   "name": "python3"
  },
  "language_info": {
   "codemirror_mode": {
    "name": "ipython",
    "version": 3
   },
   "file_extension": ".py",
   "mimetype": "text/x-python",
   "name": "python",
   "nbconvert_exporter": "python",
   "pygments_lexer": "ipython3",
   "version": "3.8.8"
  }
 },
 "nbformat": 4,
 "nbformat_minor": 5
}
