{
 "cells": [
  {
   "cell_type": "code",
   "execution_count": 17,
   "id": "c33b214f",
   "metadata": {},
   "outputs": [],
   "source": [
    "from tkinter import *\n",
    "from PyDictionary import PyDictionary"
   ]
  },
  {
   "cell_type": "code",
   "execution_count": 20,
   "id": "6f587e21",
   "metadata": {},
   "outputs": [
    {
     "name": "stderr",
     "output_type": "stream",
     "text": [
      "Exception in Tkinter callback\n",
      "Traceback (most recent call last):\n",
      "  File \"D:\\Softwares\\Anaconda\\lib\\tkinter\\__init__.py\", line 1892, in __call__\n",
      "    return self.func(*args)\n",
      "  File \"<ipython-input-20-587c386d0a71>\", line 7, in dict\n",
      "    meaning.config(text=dictionary.meaning(word.get())['Noun'][0])\n",
      "KeyError: 'Noun'\n",
      "Exception in Tkinter callback\n",
      "Traceback (most recent call last):\n",
      "  File \"D:\\Softwares\\Anaconda\\lib\\tkinter\\__init__.py\", line 1892, in __call__\n",
      "    return self.func(*args)\n",
      "  File \"<ipython-input-20-587c386d0a71>\", line 7, in dict\n",
      "    meaning.config(text=dictionary.meaning(word.get())['Noun'][0])\n",
      "KeyError: 'Noun'\n"
     ]
    },
    {
     "name": "stdout",
     "output_type": "stream",
     "text": [
      "Game has no Synonyms in the API\n",
      "Game has no Antonyms in the API\n"
     ]
    }
   ],
   "source": [
    "dictionary=PyDictionary()\n",
    "root=Tk()\n",
    "root.configure(background='#16E2F5')\n",
    "root.geometry('500x500')\n",
    "\n",
    "def dict():\n",
    "    meaning.config(text=dictionary.meaning(word.get())['Noun'][0])\n",
    "    synonym.config(text=dictionary.synonym(word.get()))\n",
    "    antonym.config(text=dictionary.antonym(word.get()))\n",
    "    \n",
    "Label(root,text=\"Dictionary\",font=(\"Helvetica 20 bold\"),fg=\"Green\",bg=\"#16E2F5\").pack(pady=10)\n",
    "\n",
    "frame=Frame(root)\n",
    "Label(frame,text=\"Type Word\",font=('Helvetica 15 bold'),fg=\"Green\",bg=\"#16E2F5\").pack(side=LEFT)\n",
    "word=Entry(frame,font=(\"Helvetica 15 bold\"),bg='white')\n",
    "word.pack()\n",
    "frame.pack(pady=10)\n",
    "\n",
    "frame1=Frame(root)\n",
    "Label(frame1,text=\"Meaning:- \",font=(\"Helvetica 10 bold\"),bg=\"#16E2F5\").pack(side=LEFT)\n",
    "meaning=Label(frame1,text=\"\",font=(\"Helvetica 10\"),bg=\"#16E2F5\")\n",
    "meaning.pack()\n",
    "frame1.pack(pady=10)\n",
    "\n",
    "frame2=Frame(root)\n",
    "Label(frame2,text=\"Synonym:- \",font=(\"Helvetica 10 bold\"),bg=\"#16E2F5\").pack(side=LEFT)\n",
    "synonym=Label(frame2,text=\"\",font=(\"Helvetica 10\"),bg=\"#16E2F5\")\n",
    "synonym.pack()\n",
    "frame2.pack(pady=10)\n",
    "\n",
    "frame3=Frame(root)\n",
    "Label(frame3,text=\"Antonym:- \",font=(\"Helvetica 10 bold\"),bg=\"#16E2F5\").pack(side=LEFT)\n",
    "antonym=Label(frame3,text=\"\",font=(\"Helvetica 10\"),bg=\"#16E2F5\")\n",
    "antonym.pack(side=LEFT)\n",
    "frame3.pack(pady=10)\n",
    "Button(root,text=\"Submit\",font=(\"Helvetica 15 bold\"),bg=\"black\",fg=\"white\",command=dict).pack()\n",
    "\n",
    "root.mainloop()"
   ]
  },
  {
   "cell_type": "code",
   "execution_count": null,
   "id": "029722d5",
   "metadata": {},
   "outputs": [],
   "source": []
  }
 ],
 "metadata": {
  "kernelspec": {
   "display_name": "Python 3",
   "language": "python",
   "name": "python3"
  },
  "language_info": {
   "codemirror_mode": {
    "name": "ipython",
    "version": 3
   },
   "file_extension": ".py",
   "mimetype": "text/x-python",
   "name": "python",
   "nbconvert_exporter": "python",
   "pygments_lexer": "ipython3",
   "version": "3.8.8"
  }
 },
 "nbformat": 4,
 "nbformat_minor": 5
}
